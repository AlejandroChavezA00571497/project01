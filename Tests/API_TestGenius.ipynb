{
 "cells": [
  {
   "cell_type": "code",
   "execution_count": 10,
   "metadata": {},
   "outputs": [
    {
     "name": "stdout",
     "output_type": "stream",
     "text": [
      "Searching for songs by Lady Gaga...\n",
      "\n",
      "Song 1: \"Poker Face\"\n",
      "Song 2: \"Bad Romance\"\n",
      "\n",
      "Reached user-specified song limit (2).\n",
      "Done. Found 2 songs.\n",
      "Wrote Lyrics_LadyGaga.json.\n"
     ]
    }
   ],
   "source": [
    "#https://www.youtube.com/watch?v=CokKFmDnDtw\n",
    "\n",
    "#client id: 1MGdNIc1lOXTrGw6pMrc8X4nK8ZQ9hKXTcBBaB_o7gXhoi6HptvsBRMghI42B1FU\n",
    "\n",
    "#client access: AnlZ7WmyGEcpe3tSZvPtRbXiqzRmUV0Il_15vHjAWkg6YNwDacMCkgjC9NTmioZK9lw6zOO8vVvYJBumF0gRxQ\n",
    "\n",
    "#access token: KKVSlBN3kbpuuRtePodUd-RTz3CVxexH7EOatwekQVhbjLwWAHNSsiT9Mbf2vYMi\n",
    "\n",
    "import lyricsgenius\n",
    "genius = lyricsgenius.Genius(\"KKVSlBN3kbpuuRtePodUd-RTz3CVxexH7EOatwekQVhbjLwWAHNSsiT9Mbf2vYMi\")\n",
    "artist = genius.search_artist(\"Lady Gaga\", max_songs=2)\n",
    "artist.save_lyrics()\n",
    "\n"
   ]
  },
  {
   "cell_type": "code",
   "execution_count": 12,
   "metadata": {},
   "outputs": [
    {
     "name": "stdout",
     "output_type": "stream",
     "text": [
      "Wrote Lyrics_LadyGaga.json.\n",
      "None\n"
     ]
    }
   ],
   "source": []
  }
 ],
 "metadata": {
  "kernelspec": {
   "display_name": "base",
   "language": "python",
   "name": "python3"
  },
  "language_info": {
   "codemirror_mode": {
    "name": "ipython",
    "version": 3
   },
   "file_extension": ".py",
   "mimetype": "text/x-python",
   "name": "python",
   "nbconvert_exporter": "python",
   "pygments_lexer": "ipython3",
   "version": "3.11.4"
  },
  "orig_nbformat": 4
 },
 "nbformat": 4,
 "nbformat_minor": 2
}
